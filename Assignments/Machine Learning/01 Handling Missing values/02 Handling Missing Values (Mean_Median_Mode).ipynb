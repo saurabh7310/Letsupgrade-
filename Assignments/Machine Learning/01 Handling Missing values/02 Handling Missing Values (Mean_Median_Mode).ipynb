{
 "cells": [
  {
   "cell_type": "markdown",
   "id": "89bb7620",
   "metadata": {},
   "source": [
    "## In this Notebook I am going to impliment the **Handle the Missing Values** Pediction."
   ]
  },
  {
   "cell_type": "markdown",
   "id": "cfa0fb32",
   "metadata": {},
   "source": [
    "### Ways to Handle Missing values \n",
    "\n",
    " 1- **Deleting Rows** with missing values.\n",
    "\n",
    " 2- Impute missing values with **Mean/Median/Mode**.\n",
    "\n",
    " 3- **Prediction** of missing values."
   ]
  },
  {
   "cell_type": "markdown",
   "id": "7367a138",
   "metadata": {},
   "source": [
    "### Importing required packages"
   ]
  },
  {
   "cell_type": "code",
   "execution_count": 1,
   "id": "a422f75c",
   "metadata": {},
   "outputs": [],
   "source": [
    "import numpy as np\n",
    "import pandas as pd\n",
    "import matplotlib.pyplot as plt\n",
    "import seaborn as sns"
   ]
  },
  {
   "cell_type": "code",
   "execution_count": 2,
   "id": "790f3f79",
   "metadata": {},
   "outputs": [],
   "source": [
    "path = r\"F:\\Downloads\\loan.csv\"\n",
    "df = pd.read_csv(path)\n",
    "\n",
    "# Lets make copies of data for apply diffrent types of handling missing values.\n",
    "\n",
    "df_delete_rows = df.copy() # In this I will fill values with mean.\n",
    "df_Mean_Median_Mode = df.copy() # In this I will fill values with median.\n",
    "df_Prediction = df.copy() # In this I will fill values with mode."
   ]
  },
  {
   "cell_type": "markdown",
   "id": "ef49f01b",
   "metadata": {},
   "source": [
    "## Methode 2 - Mean/Median/Mode"
   ]
  },
  {
   "cell_type": "code",
   "execution_count": 3,
   "id": "ec3c69f5",
   "metadata": {},
   "outputs": [
    {
     "data": {
      "text/html": [
       "<div>\n",
       "<style scoped>\n",
       "    .dataframe tbody tr th:only-of-type {\n",
       "        vertical-align: middle;\n",
       "    }\n",
       "\n",
       "    .dataframe tbody tr th {\n",
       "        vertical-align: top;\n",
       "    }\n",
       "\n",
       "    .dataframe thead th {\n",
       "        text-align: right;\n",
       "    }\n",
       "</style>\n",
       "<table border=\"1\" class=\"dataframe\">\n",
       "  <thead>\n",
       "    <tr style=\"text-align: right;\">\n",
       "      <th></th>\n",
       "      <th>Loan_ID</th>\n",
       "      <th>Gender</th>\n",
       "      <th>Married</th>\n",
       "      <th>Dependents</th>\n",
       "      <th>Education</th>\n",
       "      <th>Self_Employed</th>\n",
       "      <th>ApplicantIncome</th>\n",
       "      <th>CoapplicantIncome</th>\n",
       "      <th>LoanAmount</th>\n",
       "      <th>Loan_Amount_Term</th>\n",
       "      <th>Credit_History</th>\n",
       "      <th>Property_Area</th>\n",
       "      <th>Loan_Status</th>\n",
       "    </tr>\n",
       "  </thead>\n",
       "  <tbody>\n",
       "    <tr>\n",
       "      <th>0</th>\n",
       "      <td>LP001015</td>\n",
       "      <td>Male</td>\n",
       "      <td>Yes</td>\n",
       "      <td>0</td>\n",
       "      <td>Graduate</td>\n",
       "      <td>No</td>\n",
       "      <td>5720</td>\n",
       "      <td>0</td>\n",
       "      <td>110.0</td>\n",
       "      <td>360.0</td>\n",
       "      <td>1.0</td>\n",
       "      <td>Urban</td>\n",
       "      <td>Y</td>\n",
       "    </tr>\n",
       "    <tr>\n",
       "      <th>1</th>\n",
       "      <td>LP001022</td>\n",
       "      <td>Male</td>\n",
       "      <td>Yes</td>\n",
       "      <td>1</td>\n",
       "      <td>Graduate</td>\n",
       "      <td>No</td>\n",
       "      <td>3076</td>\n",
       "      <td>1500</td>\n",
       "      <td>126.0</td>\n",
       "      <td>360.0</td>\n",
       "      <td>1.0</td>\n",
       "      <td>Urban</td>\n",
       "      <td>Y</td>\n",
       "    </tr>\n",
       "    <tr>\n",
       "      <th>2</th>\n",
       "      <td>LP001031</td>\n",
       "      <td>Male</td>\n",
       "      <td>Yes</td>\n",
       "      <td>2</td>\n",
       "      <td>Graduate</td>\n",
       "      <td>No</td>\n",
       "      <td>5000</td>\n",
       "      <td>1800</td>\n",
       "      <td>208.0</td>\n",
       "      <td>360.0</td>\n",
       "      <td>1.0</td>\n",
       "      <td>Urban</td>\n",
       "      <td>Y</td>\n",
       "    </tr>\n",
       "    <tr>\n",
       "      <th>3</th>\n",
       "      <td>LP001035</td>\n",
       "      <td>Male</td>\n",
       "      <td>Yes</td>\n",
       "      <td>2</td>\n",
       "      <td>Graduate</td>\n",
       "      <td>No</td>\n",
       "      <td>2340</td>\n",
       "      <td>2546</td>\n",
       "      <td>100.0</td>\n",
       "      <td>360.0</td>\n",
       "      <td>NaN</td>\n",
       "      <td>Urban</td>\n",
       "      <td>N</td>\n",
       "    </tr>\n",
       "    <tr>\n",
       "      <th>4</th>\n",
       "      <td>LP001051</td>\n",
       "      <td>Male</td>\n",
       "      <td>No</td>\n",
       "      <td>0</td>\n",
       "      <td>Not Graduate</td>\n",
       "      <td>No</td>\n",
       "      <td>3276</td>\n",
       "      <td>0</td>\n",
       "      <td>78.0</td>\n",
       "      <td>360.0</td>\n",
       "      <td>1.0</td>\n",
       "      <td>Urban</td>\n",
       "      <td>N</td>\n",
       "    </tr>\n",
       "  </tbody>\n",
       "</table>\n",
       "</div>"
      ],
      "text/plain": [
       "    Loan_ID Gender Married Dependents     Education Self_Employed  \\\n",
       "0  LP001015   Male     Yes          0      Graduate            No   \n",
       "1  LP001022   Male     Yes          1      Graduate            No   \n",
       "2  LP001031   Male     Yes          2      Graduate            No   \n",
       "3  LP001035   Male     Yes          2      Graduate            No   \n",
       "4  LP001051   Male      No          0  Not Graduate            No   \n",
       "\n",
       "   ApplicantIncome  CoapplicantIncome  LoanAmount  Loan_Amount_Term  \\\n",
       "0             5720                  0       110.0             360.0   \n",
       "1             3076               1500       126.0             360.0   \n",
       "2             5000               1800       208.0             360.0   \n",
       "3             2340               2546       100.0             360.0   \n",
       "4             3276                  0        78.0             360.0   \n",
       "\n",
       "   Credit_History Property_Area Loan_Status  \n",
       "0             1.0         Urban           Y  \n",
       "1             1.0         Urban           Y  \n",
       "2             1.0         Urban           Y  \n",
       "3             NaN         Urban           N  \n",
       "4             1.0         Urban           N  "
      ]
     },
     "execution_count": 3,
     "metadata": {},
     "output_type": "execute_result"
    }
   ],
   "source": [
    "df_Mean_Median_Mode.head()"
   ]
  },
  {
   "cell_type": "code",
   "execution_count": 4,
   "id": "652307ec",
   "metadata": {},
   "outputs": [
    {
     "name": "stdout",
     "output_type": "stream",
     "text": [
      "<class 'pandas.core.frame.DataFrame'>\n",
      "RangeIndex: 367 entries, 0 to 366\n",
      "Data columns (total 13 columns):\n",
      " #   Column             Non-Null Count  Dtype  \n",
      "---  ------             --------------  -----  \n",
      " 0   Loan_ID            367 non-null    object \n",
      " 1   Gender             356 non-null    object \n",
      " 2   Married            367 non-null    object \n",
      " 3   Dependents         357 non-null    object \n",
      " 4   Education          367 non-null    object \n",
      " 5   Self_Employed      344 non-null    object \n",
      " 6   ApplicantIncome    367 non-null    int64  \n",
      " 7   CoapplicantIncome  367 non-null    int64  \n",
      " 8   LoanAmount         362 non-null    float64\n",
      " 9   Loan_Amount_Term   361 non-null    float64\n",
      " 10  Credit_History     338 non-null    float64\n",
      " 11  Property_Area      367 non-null    object \n",
      " 12  Loan_Status        367 non-null    object \n",
      "dtypes: float64(3), int64(2), object(8)\n",
      "memory usage: 37.4+ KB\n"
     ]
    }
   ],
   "source": [
    "df_Mean_Median_Mode.info()"
   ]
  },
  {
   "cell_type": "code",
   "execution_count": 5,
   "id": "f367d8cd",
   "metadata": {},
   "outputs": [
    {
     "data": {
      "text/plain": [
       "Loan_ID               0\n",
       "Gender               11\n",
       "Married               0\n",
       "Dependents           10\n",
       "Education             0\n",
       "Self_Employed        23\n",
       "ApplicantIncome       0\n",
       "CoapplicantIncome     0\n",
       "LoanAmount            5\n",
       "Loan_Amount_Term      6\n",
       "Credit_History       29\n",
       "Property_Area         0\n",
       "Loan_Status           0\n",
       "dtype: int64"
      ]
     },
     "execution_count": 5,
     "metadata": {},
     "output_type": "execute_result"
    }
   ],
   "source": [
    "df_Mean_Median_Mode.isnull().sum()"
   ]
  },
  {
   "cell_type": "markdown",
   "id": "9cbb63a5",
   "metadata": {},
   "source": [
    "### Here, In this dataset null values are present in 6 columns - \n",
    "\n",
    "#### [**Gender**, **Dependents**, **Self_Employed**, **LoanAmount**, **Loan_Amount_Term**, **Credit_History**]"
   ]
  },
  {
   "cell_type": "markdown",
   "id": "0165cc4b",
   "metadata": {},
   "source": [
    "### **Visualize** Our Dataset For Better Understanding"
   ]
  },
  {
   "cell_type": "code",
   "execution_count": 6,
   "id": "1c4612aa",
   "metadata": {},
   "outputs": [
    {
     "data": {
      "text/plain": [
       "<AxesSubplot:title={'center':'Heat Map for Missing Values'}>"
      ]
     },
     "execution_count": 6,
     "metadata": {},
     "output_type": "execute_result"
    },
    {
     "data": {
      "image/png": "[encoded data removed]",
      "text/plain": [
       "<Figure size 600x400 with 2 Axes>"
      ]
     },
     "metadata": {
      "needs_background": "light"
     },
     "output_type": "display_data"
    }
   ],
   "source": [
    "plt.figure(figsize=(6,4), dpi=100)\n",
    "plt.title(\"Heat Map for Missing Values\")\n",
    "sns.heatmap(df_Mean_Median_Mode.isna())"
   ]
  },
  {
   "cell_type": "markdown",
   "id": "0c03bed5",
   "metadata": {},
   "source": [
    "### Now I am Handling missing values to **Fill Mean/Median/Mode** that rows\n",
    "\n",
    "Note > \n",
    "  - Due to this methode **Missing Values** will be filled with Mean/Median/Mode.\n",
    "  - From using this methode Posibily of **Important Data Loss** is Low compare to **Delete** that rows.\n",
    "  - Our Data also will clean.\n"
   ]
  },
  {
   "cell_type": "code",
   "execution_count": 7,
   "id": "466ffba5",
   "metadata": {},
   "outputs": [],
   "source": [
    "def fill_nan(df_Mean_Median_Mode):\n",
    "    df_Mean_Median_Mode['Gender'] = df_Mean_Median_Mode['Gender'].fillna(df_Mean_Median_Mode['Gender'].mode()[0])\n",
    "    df_Mean_Median_Mode['Dependents'] = df_Mean_Median_Mode['Dependents'].fillna(df_Mean_Median_Mode['Dependents'].mode()[0])\n",
    "    df_Mean_Median_Mode['Self_Employed'] = df_Mean_Median_Mode['Self_Employed'].fillna(df_Mean_Median_Mode['Self_Employed'].mode()[0])\n",
    "    df_Mean_Median_Mode['Credit_History'] = df_Mean_Median_Mode['Credit_History'].fillna(df_Mean_Median_Mode['Credit_History'].median())\n",
    "    df_Mean_Median_Mode['LoanAmount'] = df_Mean_Median_Mode['LoanAmount'].fillna(df_Mean_Median_Mode['LoanAmount'].mean())\n",
    "    df_Mean_Median_Mode['Loan_Amount_Term'] = df_Mean_Median_Mode['Loan_Amount_Term'].fillna(df_Mean_Median_Mode['Loan_Amount_Term'].mean())\n",
    "    \n",
    "    return df_Mean_Median_Mode\n"
   ]
  },
  {
   "cell_type": "code",
   "execution_count": 8,
   "id": "edae2d7b",
   "metadata": {},
   "outputs": [],
   "source": [
    "df_Mean_Median_Mode = fill_nan(df_Mean_Median_Mode)"
   ]
  },
  {
   "cell_type": "code",
   "execution_count": 9,
   "id": "43508097",
   "metadata": {},
   "outputs": [
    {
     "data": {
      "text/plain": [
       "Loan_ID              0\n",
       "Gender               0\n",
       "Married              0\n",
       "Dependents           0\n",
       "Education            0\n",
       "Self_Employed        0\n",
       "ApplicantIncome      0\n",
       "CoapplicantIncome    0\n",
       "LoanAmount           0\n",
       "Loan_Amount_Term     0\n",
       "Credit_History       0\n",
       "Property_Area        0\n",
       "Loan_Status          0\n",
       "dtype: int64"
      ]
     },
     "execution_count": 9,
     "metadata": {},
     "output_type": "execute_result"
    }
   ],
   "source": [
    "df_Mean_Median_Mode.isna().sum()"
   ]
  },
  {
   "cell_type": "code",
   "execution_count": 10,
   "id": "0ab98168",
   "metadata": {
    "scrolled": true
   },
   "outputs": [
    {
     "data": {
      "text/plain": [
       "<AxesSubplot:title={'center':'Heat Map for Missing Values'}>"
      ]
     },
     "execution_count": 10,
     "metadata": {},
     "output_type": "execute_result"
    },
    {
     "data": {
      "image/png": "[encoded data removed]",
      "text/plain": [
       "<Figure size 390x260 with 2 Axes>"
      ]
     },
     "metadata": {
      "needs_background": "light"
     },
     "output_type": "display_data"
    }
   ],
   "source": [
    "plt.figure(figsize=(6,4), dpi=65)\n",
    "plt.title(\"Heat Map for Missing Values\")\n",
    "sns.heatmap(df_Mean_Median_Mode.isna())"
   ]
  },
  {
   "cell_type": "markdown",
   "id": "0602d825",
   "metadata": {},
   "source": [
    "# Now My Dataset has no *Null Values*.\n",
    "\n",
    "## Observations :-\n",
    "\n",
    "                   Missing Values\n",
    "    Gender               11\n",
    "    Dependents           10\n",
    "    Self_Employed        23\n",
    "    LoanAmount            5\n",
    "    Loan_Amount_Term      6\n",
    "    Credit_History       29\n",
    "   \n",
    "**These was the columns those had missing values.**\n",
    "\n",
    "   1- From Dataset **Gender, Dependents, Self_Employed** was object type. So i decided to fill **Mode**.\n",
    "   \n",
    "   2- From Dataset **Loan_Amount, Loan_Amount_Term, Credit_History** was float type.\n",
    "        \n",
    "   3- In **Credit_History** column values was **Catagorical**. So i fill those from **Median**.\n",
    "   \n",
    "   4- Else i filled with **Mean**\n"
   ]
  }
 ],
 "metadata": {
  "kernelspec": {
   "display_name": "Python 3 (ipykernel)",
   "language": "python",
   "name": "python3"
  },
  "language_info": {
   "codemirror_mode": {
    "name": "ipython",
    "version": 3
   },
   "file_extension": ".py",
   "mimetype": "text/x-python",
   "name": "python",
   "nbconvert_exporter": "python",
   "pygments_lexer": "ipython3",
   "version": "3.9.7"
  }
 },
 "nbformat": 4,
 "nbformat_minor": 5
}
